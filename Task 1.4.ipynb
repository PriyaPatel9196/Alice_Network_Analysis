{
 "cells": [
  {
   "cell_type": "code",
   "execution_count": 1,
   "id": "7dcd9b43-9696-40d6-be5f-60b27e178198",
   "metadata": {
    "tags": []
   },
   "outputs": [],
   "source": [
    "# Import libraries\n",
    "\n",
    "import pandas as pd\n",
    "import time\n",
    "from selenium import webdriver\n",
    "from webdriver_manager.chrome import ChromeDriverManager\n",
    "from selenium.webdriver.common.by import By\n",
    "from selenium.webdriver.chrome.service import Service  # Corrected import\n",
    "from selenium.webdriver.chrome.options import Options\n",
    "import matplotlib.pyplot as plt \n",
    "import os\n",
    "import logging"
   ]
  },
  {
   "cell_type": "code",
   "execution_count": 3,
   "id": "e6196fda-c644-4c9e-91d6-b9fed963026f",
   "metadata": {
    "tags": []
   },
   "outputs": [
    {
     "name": "stderr",
     "output_type": "stream",
     "text": [
      "C:\\Users\\Priya\\AppData\\Local\\Temp\\ipykernel_14980\\3747452260.py:2: DeprecationWarning: executable_path has been deprecated, please pass in a Service object\n",
      "  driver = webdriver.Chrome(executable_path=r'C:\\Users\\Priya\\chromedriver_win32\\chromedriver.exe')\n"
     ]
    }
   ],
   "source": [
    "service  =  Service(executable_path=ChromeDriverManager().install())\n",
    "driver = webdriver.Chrome(executable_path=r'C:\\Users\\Priya\\chromedriver_win32\\chromedriver.exe')"
   ]
  },
  {
   "cell_type": "code",
   "execution_count": 5,
   "id": "ebd8a8dc-371c-4a77-9ddb-0208358c0848",
   "metadata": {},
   "outputs": [],
   "source": [
    "# Get the page’s contents\n",
    "\n",
    "page_url = \"https://en.wikipedia.org/wiki/Alice%27s_Adventures_in_Wonderland\"\n",
    "driver.get(page_url)"
   ]
  },
  {
   "cell_type": "code",
   "execution_count": 7,
   "id": "856a804f-4a56-494b-93e9-f242a3400343",
   "metadata": {
    "tags": []
   },
   "outputs": [],
   "source": [
    "# Create a collection of the characters\n",
    "\n",
    "characters_elems = driver.find_elements(by = By.CLASS_NAME, value = 'div-col')"
   ]
  },
  {
   "cell_type": "code",
   "execution_count": 9,
   "id": "17913d73-baee-4a0f-8838-9f29cb044d2a",
   "metadata": {
    "tags": []
   },
   "outputs": [
    {
     "data": {
      "text/plain": [
       "'Alice\\nThe White Rabbit\\nThe Mouse\\nThe Dodo\\nThe Lory\\nThe Eaglet\\nThe Duck\\nPat\\nBill the Lizard\\nPuppy\\nThe Caterpillar\\nThe Duchess\\nThe Cheshire Cat\\nThe Hatter\\nThe March Hare\\nThe Dormouse\\nThe Queen of Hearts\\nThe King of Hearts\\nThe Knave of Hearts\\nThe Gryphon\\nThe Mock Turtle'"
      ]
     },
     "execution_count": 9,
     "metadata": {},
     "output_type": "execute_result"
    }
   ],
   "source": [
    "characters_elems[0].text"
   ]
  },
  {
   "cell_type": "code",
   "execution_count": 11,
   "id": "d9c5b4d9-8b73-4857-a1b6-4e674a786233",
   "metadata": {
    "tags": []
   },
   "outputs": [],
   "source": [
    "list_char = characters_elems[0].text.split(\"\\n\")"
   ]
  },
  {
   "cell_type": "code",
   "execution_count": 13,
   "id": "b6130129-2d6a-4003-94c2-f9f025202dc7",
   "metadata": {
    "tags": []
   },
   "outputs": [
    {
     "data": {
      "text/plain": [
       "['Alice',\n",
       " 'The White Rabbit',\n",
       " 'The Mouse',\n",
       " 'The Dodo',\n",
       " 'The Lory',\n",
       " 'The Eaglet',\n",
       " 'The Duck',\n",
       " 'Pat',\n",
       " 'Bill the Lizard',\n",
       " 'Puppy',\n",
       " 'The Caterpillar',\n",
       " 'The Duchess',\n",
       " 'The Cheshire Cat',\n",
       " 'The Hatter',\n",
       " 'The March Hare',\n",
       " 'The Dormouse',\n",
       " 'The Queen of Hearts',\n",
       " 'The King of Hearts',\n",
       " 'The Knave of Hearts',\n",
       " 'The Gryphon',\n",
       " 'The Mock Turtle']"
      ]
     },
     "execution_count": 13,
     "metadata": {},
     "output_type": "execute_result"
    }
   ],
   "source": [
    "list_char"
   ]
  },
  {
   "cell_type": "code",
   "execution_count": 15,
   "id": "20f60f44-0e86-453c-8585-aa335f86a287",
   "metadata": {
    "tags": []
   },
   "outputs": [],
   "source": [
    "# Put the characters into a dataframe\n",
    "\n",
    "df = pd.DataFrame(list_char, columns = [\"character\"]) "
   ]
  },
  {
   "cell_type": "code",
   "execution_count": 17,
   "id": "04bda215-e4ef-4aae-b332-97985cacfeb7",
   "metadata": {
    "tags": []
   },
   "outputs": [
    {
     "name": "stdout",
     "output_type": "stream",
     "text": [
      "              character\n",
      "0                 Alice\n",
      "1      The White Rabbit\n",
      "2             The Mouse\n",
      "3              The Dodo\n",
      "4              The Lory\n",
      "5            The Eaglet\n",
      "6              The Duck\n",
      "7                   Pat\n",
      "8       Bill the Lizard\n",
      "9                 Puppy\n",
      "10      The Caterpillar\n",
      "11          The Duchess\n",
      "12     The Cheshire Cat\n",
      "13           The Hatter\n",
      "14       The March Hare\n",
      "15         The Dormouse\n",
      "16  The Queen of Hearts\n",
      "17   The King of Hearts\n",
      "18  The Knave of Hearts\n",
      "19          The Gryphon\n",
      "20      The Mock Turtle\n"
     ]
    }
   ],
   "source": [
    "print(df)"
   ]
  },
  {
   "cell_type": "code",
   "execution_count": 19,
   "id": "932dbb85-8b80-4f83-b651-b2badcb01632",
   "metadata": {
    "tags": []
   },
   "outputs": [],
   "source": [
    "# Close the Chrome window\n",
    "driver.quit()"
   ]
  },
  {
   "cell_type": "code",
   "execution_count": 21,
   "id": "b6a716dc-26d1-4595-ab4a-0e3cd894f4ef",
   "metadata": {
    "tags": []
   },
   "outputs": [],
   "source": [
    "# Save the dataframe as csv\n",
    "df.to_csv('Alice_characters.csv')"
   ]
  },
  {
   "cell_type": "code",
   "execution_count": 23,
   "id": "6bb2f922-be69-4225-afd4-2edefadaee68",
   "metadata": {
    "tags": []
   },
   "outputs": [],
   "source": [
    "from bs4 import BeautifulSoup\n",
    "import requests "
   ]
  },
  {
   "cell_type": "code",
   "execution_count": 25,
   "id": "fcd6bb82-b1ae-4b0b-a406-b0747526905d",
   "metadata": {
    "tags": []
   },
   "outputs": [],
   "source": [
    "# Get URL\n",
    "\n",
    "page_url =  requests.get(\"https://en.wikipedia.org/wiki/Alice%27s_Adventures_in_Wonderland\")"
   ]
  },
  {
   "cell_type": "code",
   "execution_count": 27,
   "id": "f7b34959-173b-4638-ab6b-2a1af64345a0",
   "metadata": {
    "tags": []
   },
   "outputs": [
    {
     "name": "stdout",
     "output_type": "stream",
     "text": [
      "<title>Alice's Adventures in Wonderland - Wikipedia</title>\n"
     ]
    }
   ],
   "source": [
    "# Create soup and get title\n",
    "\n",
    "soup = BeautifulSoup(page_url.text, 'html.parser')\n",
    "print(soup.title)  "
   ]
  },
  {
   "cell_type": "code",
   "execution_count": 29,
   "id": "b6b4897b-a7a0-40d4-994c-e48fed4bf1d9",
   "metadata": {
    "tags": []
   },
   "outputs": [],
   "source": [
    "text = soup.get_text()\n",
    "\n",
    "text = text.encode ('utf-8')\n",
    "\n",
    "with open('Alice_article_Wiki.txt', 'wb') as f:\n",
    "       f.write(text)"
   ]
  },
  {
   "cell_type": "code",
   "execution_count": null,
   "id": "08ca20f1-876a-4516-8342-621985e227b7",
   "metadata": {},
   "outputs": [],
   "source": []
  }
 ],
 "metadata": {
  "kernelspec": {
   "display_name": "Python [conda env:venv_alice]",
   "language": "python",
   "name": "conda-env-venv_alice-py"
  },
  "language_info": {
   "codemirror_mode": {
    "name": "ipython",
    "version": 3
   },
   "file_extension": ".py",
   "mimetype": "text/x-python",
   "name": "python",
   "nbconvert_exporter": "python",
   "pygments_lexer": "ipython3",
   "version": "3.12.4"
  }
 },
 "nbformat": 4,
 "nbformat_minor": 5
}
